{
 "cells": [
  {
   "cell_type": "code",
   "execution_count": 34,
   "metadata": {},
   "outputs": [],
   "source": [
    "import pandas as pd\n",
    "from sqlalchemy import create_engine, inspect\n",
    "from sqlalchemy.exc import OperationalError\n",
    "\n"
   ]
  },
  {
   "cell_type": "code",
   "execution_count": 7,
   "metadata": {},
   "outputs": [
    {
     "name": "stdout",
     "output_type": "stream",
     "text": [
      "    Invoice ID Branch       City Customer type  Gender  \\\n",
      "0  750-67-8428      A     Yangon        Member  Female   \n",
      "1  226-31-3081      C  Naypyitaw        Normal  Female   \n",
      "2  631-41-3108      A     Yangon        Normal    Male   \n",
      "3  123-19-1176      A     Yangon        Member    Male   \n",
      "4  373-73-7910      A     Yangon        Normal    Male   \n",
      "\n",
      "             Product line  Unit price  Quantity   Tax 5%     Total       Date  \\\n",
      "0       Health and beauty       74.69         7  26.1415  548.9715   1/5/2019   \n",
      "1  Electronic accessories       15.28         5   3.8200   80.2200   3/8/2019   \n",
      "2      Home and lifestyle       46.33         7  16.2155  340.5255   3/3/2019   \n",
      "3       Health and beauty       58.22         8  23.2880  489.0480  1/27/2019   \n",
      "4       Sports and travel       86.31         7  30.2085  634.3785   2/8/2019   \n",
      "\n",
      "    Time      Payment    cogs  gross margin percentage  gross income  Rating  \n",
      "0  13:08      Ewallet  522.83                 4.761905       26.1415     9.1  \n",
      "1  10:29         Cash   76.40                 4.761905        3.8200     9.6  \n",
      "2  13:23  Credit card  324.31                 4.761905       16.2155     7.4  \n",
      "3  20:33      Ewallet  465.76                 4.761905       23.2880     8.4  \n",
      "4  10:37      Ewallet  604.17                 4.761905       30.2085     5.3  \n"
     ]
    }
   ],
   "source": [
    "file_path = r\"D:\\data engineering\\superMarket project\\dataset\\supermarket_sales - Sheet1.csv\"\n",
    "df = pd.read_csv(file_path)\n",
    "\n",
    "print(df.head())\n"
   ]
  },
  {
   "cell_type": "code",
   "execution_count": 75,
   "metadata": {},
   "outputs": [],
   "source": [
    "username = 'root' \n",
    "password = '1234'  \n",
    "database = 'super_market' \n",
    "host = 'localhost' \n",
    "\n",
    "engine = create_engine(f'mysql+mysqlconnector://{username}:{password}@{host}/{database}')"
   ]
  },
  {
   "cell_type": "code",
   "execution_count": 76,
   "metadata": {},
   "outputs": [
    {
     "name": "stdout",
     "output_type": "stream",
     "text": [
      "Connection to the database was successful.\n",
      "Tables in the database:\n",
      "branch_dimension\n",
      "customer_dimension\n",
      "date_dimension\n",
      "payment_dimension\n",
      "product_line_dimension\n",
      "sales_fact\n"
     ]
    }
   ],
   "source": [
    "try:\n",
    "    # Try to establish a connection\n",
    "    with engine.connect() as connection:\n",
    "        print(\"Connection to the database was successful.\")\n",
    "\n",
    "        # Create an inspector object to get metadata\n",
    "        inspector = inspect(engine)\n",
    "\n",
    "        # Get all table names in the database\n",
    "        tables = inspector.get_table_names()\n",
    "        \n",
    "        print(\"Tables in the database:\")\n",
    "        for table in tables:\n",
    "            print(table)\n",
    "\n",
    "except OperationalError as e:\n",
    "    print(f\"Could not connect to the database: {e}\")"
   ]
  },
  {
   "cell_type": "code",
   "execution_count": 52,
   "metadata": {},
   "outputs": [
    {
     "data": {
      "text/html": [
       "<div>\n",
       "<style scoped>\n",
       "    .dataframe tbody tr th:only-of-type {\n",
       "        vertical-align: middle;\n",
       "    }\n",
       "\n",
       "    .dataframe tbody tr th {\n",
       "        vertical-align: top;\n",
       "    }\n",
       "\n",
       "    .dataframe thead th {\n",
       "        text-align: right;\n",
       "    }\n",
       "</style>\n",
       "<table border=\"1\" class=\"dataframe\">\n",
       "  <thead>\n",
       "    <tr style=\"text-align: right;\">\n",
       "      <th></th>\n",
       "      <th>branch_id</th>\n",
       "      <th>branch_name</th>\n",
       "      <th>city</th>\n",
       "    </tr>\n",
       "  </thead>\n",
       "  <tbody>\n",
       "    <tr>\n",
       "      <th>0</th>\n",
       "      <td>1</td>\n",
       "      <td>A</td>\n",
       "      <td>Yangon</td>\n",
       "    </tr>\n",
       "    <tr>\n",
       "      <th>1</th>\n",
       "      <td>2</td>\n",
       "      <td>C</td>\n",
       "      <td>Naypyitaw</td>\n",
       "    </tr>\n",
       "    <tr>\n",
       "      <th>2</th>\n",
       "      <td>3</td>\n",
       "      <td>B</td>\n",
       "      <td>Mandalay</td>\n",
       "    </tr>\n",
       "  </tbody>\n",
       "</table>\n",
       "</div>"
      ],
      "text/plain": [
       "   branch_id branch_name       city\n",
       "0          1           A     Yangon\n",
       "1          2           C  Naypyitaw\n",
       "2          3           B   Mandalay"
      ]
     },
     "execution_count": 52,
     "metadata": {},
     "output_type": "execute_result"
    }
   ],
   "source": [
    "\n",
    "branch_df = df[['Branch', 'City']].drop_duplicates().reset_index(drop=True)\n",
    "\n",
    "branch_df['branch_id'] = branch_df.index + 1 \n",
    "\n",
    "branch_df = branch_df.rename(columns={'Branch': 'branch_name', 'City': 'city'})\n",
    "df = df.rename(columns={'Branch': 'branch_name', 'City': 'city'})\n",
    "\n",
    "branch_df = branch_df[['branch_id', 'branch_name', 'city']]\n",
    "\n",
    "branch_df"
   ]
  },
  {
   "cell_type": "code",
   "execution_count": 38,
   "metadata": {},
   "outputs": [
    {
     "data": {
      "text/plain": [
       "3"
      ]
     },
     "execution_count": 38,
     "metadata": {},
     "output_type": "execute_result"
    }
   ],
   "source": [
    "branch_df.to_sql('branch_dimension', con=engine, if_exists='append', index=False)\n"
   ]
  },
  {
   "cell_type": "code",
   "execution_count": 54,
   "metadata": {},
   "outputs": [
    {
     "data": {
      "text/html": [
       "<div>\n",
       "<style scoped>\n",
       "    .dataframe tbody tr th:only-of-type {\n",
       "        vertical-align: middle;\n",
       "    }\n",
       "\n",
       "    .dataframe tbody tr th {\n",
       "        vertical-align: top;\n",
       "    }\n",
       "\n",
       "    .dataframe thead th {\n",
       "        text-align: right;\n",
       "    }\n",
       "</style>\n",
       "<table border=\"1\" class=\"dataframe\">\n",
       "  <thead>\n",
       "    <tr style=\"text-align: right;\">\n",
       "      <th></th>\n",
       "      <th>customer_id</th>\n",
       "      <th>Customer_type</th>\n",
       "      <th>Gender</th>\n",
       "    </tr>\n",
       "  </thead>\n",
       "  <tbody>\n",
       "    <tr>\n",
       "      <th>0</th>\n",
       "      <td>1</td>\n",
       "      <td>Member</td>\n",
       "      <td>Female</td>\n",
       "    </tr>\n",
       "    <tr>\n",
       "      <th>1</th>\n",
       "      <td>2</td>\n",
       "      <td>Member</td>\n",
       "      <td>Male</td>\n",
       "    </tr>\n",
       "    <tr>\n",
       "      <th>2</th>\n",
       "      <td>3</td>\n",
       "      <td>Normal</td>\n",
       "      <td>Female</td>\n",
       "    </tr>\n",
       "    <tr>\n",
       "      <th>3</th>\n",
       "      <td>4</td>\n",
       "      <td>Normal</td>\n",
       "      <td>Male</td>\n",
       "    </tr>\n",
       "  </tbody>\n",
       "</table>\n",
       "</div>"
      ],
      "text/plain": [
       "   customer_id Customer_type  Gender\n",
       "0            1        Member  Female\n",
       "1            2        Member    Male\n",
       "2            3        Normal  Female\n",
       "3            4        Normal    Male"
      ]
     },
     "execution_count": 54,
     "metadata": {},
     "output_type": "execute_result"
    }
   ],
   "source": [
    "customer_df = df[['Customer type', 'Gender']].drop_duplicates().reset_index(drop=True)\n",
    "customer_df['customer_id'] = customer_df.index + 1 \n",
    "customer_df = customer_df[['customer_id', 'Customer type', 'Gender']]\n",
    "customer_df.rename(columns={'Customer type': 'Customer_type'}, inplace=True)\n",
    "df.rename(columns={'Customer type': 'Customer_type'}, inplace=True)\n",
    "\n",
    "customer_df\n"
   ]
  },
  {
   "cell_type": "code",
   "execution_count": 42,
   "metadata": {},
   "outputs": [
    {
     "data": {
      "text/plain": [
       "4"
      ]
     },
     "execution_count": 42,
     "metadata": {},
     "output_type": "execute_result"
    }
   ],
   "source": [
    "customer_df.to_sql('customer_dimension', con=engine, if_exists='append', index=False)\n"
   ]
  },
  {
   "cell_type": "code",
   "execution_count": 55,
   "metadata": {},
   "outputs": [
    {
     "data": {
      "text/html": [
       "<div>\n",
       "<style scoped>\n",
       "    .dataframe tbody tr th:only-of-type {\n",
       "        vertical-align: middle;\n",
       "    }\n",
       "\n",
       "    .dataframe tbody tr th {\n",
       "        vertical-align: top;\n",
       "    }\n",
       "\n",
       "    .dataframe thead th {\n",
       "        text-align: right;\n",
       "    }\n",
       "</style>\n",
       "<table border=\"1\" class=\"dataframe\">\n",
       "  <thead>\n",
       "    <tr style=\"text-align: right;\">\n",
       "      <th></th>\n",
       "      <th>product_line_id</th>\n",
       "      <th>Product_line_name</th>\n",
       "    </tr>\n",
       "  </thead>\n",
       "  <tbody>\n",
       "    <tr>\n",
       "      <th>0</th>\n",
       "      <td>1</td>\n",
       "      <td>Health and beauty</td>\n",
       "    </tr>\n",
       "    <tr>\n",
       "      <th>1</th>\n",
       "      <td>2</td>\n",
       "      <td>Electronic accessories</td>\n",
       "    </tr>\n",
       "    <tr>\n",
       "      <th>2</th>\n",
       "      <td>3</td>\n",
       "      <td>Home and lifestyle</td>\n",
       "    </tr>\n",
       "    <tr>\n",
       "      <th>3</th>\n",
       "      <td>4</td>\n",
       "      <td>Sports and travel</td>\n",
       "    </tr>\n",
       "    <tr>\n",
       "      <th>4</th>\n",
       "      <td>5</td>\n",
       "      <td>Food and beverages</td>\n",
       "    </tr>\n",
       "    <tr>\n",
       "      <th>5</th>\n",
       "      <td>6</td>\n",
       "      <td>Fashion accessories</td>\n",
       "    </tr>\n",
       "  </tbody>\n",
       "</table>\n",
       "</div>"
      ],
      "text/plain": [
       "   product_line_id       Product_line_name\n",
       "0                1       Health and beauty\n",
       "1                2  Electronic accessories\n",
       "2                3      Home and lifestyle\n",
       "3                4       Sports and travel\n",
       "4                5      Food and beverages\n",
       "5                6     Fashion accessories"
      ]
     },
     "execution_count": 55,
     "metadata": {},
     "output_type": "execute_result"
    }
   ],
   "source": [
    "product_line_df = df[['Product line']].drop_duplicates().reset_index(drop=True)\n",
    "product_line_df['product_line_id'] = product_line_df.index + 1 \n",
    "product_line_df = product_line_df[['product_line_id', 'Product line']]\n",
    "product_line_df.rename(columns={'Product line': 'Product_line_name'}, inplace=True)\n",
    "df.rename(columns={'Product line': 'Product_line_name'}, inplace=True)\n",
    "product_line_df"
   ]
  },
  {
   "cell_type": "code",
   "execution_count": 44,
   "metadata": {},
   "outputs": [
    {
     "name": "stderr",
     "output_type": "stream",
     "text": [
      "C:\\Users\\Lenovo\\AppData\\Local\\Temp\\ipykernel_1440\\3357416494.py:1: UserWarning: The provided table name 'Product_Line_Dimension' is not found exactly as such in the database after writing the table, possibly due to case sensitivity issues. Consider using lower case table names.\n",
      "  product_line_df.to_sql('Product_Line_Dimension', con=engine, if_exists='append', index=False)\n"
     ]
    },
    {
     "data": {
      "text/plain": [
       "6"
      ]
     },
     "execution_count": 44,
     "metadata": {},
     "output_type": "execute_result"
    }
   ],
   "source": [
    "product_line_df.to_sql('Product_Line_Dimension', con=engine, if_exists='append', index=False)\n"
   ]
  },
  {
   "cell_type": "code",
   "execution_count": 58,
   "metadata": {},
   "outputs": [
    {
     "data": {
      "text/html": [
       "<div>\n",
       "<style scoped>\n",
       "    .dataframe tbody tr th:only-of-type {\n",
       "        vertical-align: middle;\n",
       "    }\n",
       "\n",
       "    .dataframe tbody tr th {\n",
       "        vertical-align: top;\n",
       "    }\n",
       "\n",
       "    .dataframe thead th {\n",
       "        text-align: right;\n",
       "    }\n",
       "</style>\n",
       "<table border=\"1\" class=\"dataframe\">\n",
       "  <thead>\n",
       "    <tr style=\"text-align: right;\">\n",
       "      <th></th>\n",
       "      <th>payment_id</th>\n",
       "      <th>Payment_method</th>\n",
       "    </tr>\n",
       "  </thead>\n",
       "  <tbody>\n",
       "    <tr>\n",
       "      <th>0</th>\n",
       "      <td>1</td>\n",
       "      <td>Ewallet</td>\n",
       "    </tr>\n",
       "    <tr>\n",
       "      <th>1</th>\n",
       "      <td>2</td>\n",
       "      <td>Cash</td>\n",
       "    </tr>\n",
       "    <tr>\n",
       "      <th>2</th>\n",
       "      <td>3</td>\n",
       "      <td>Credit card</td>\n",
       "    </tr>\n",
       "  </tbody>\n",
       "</table>\n",
       "</div>"
      ],
      "text/plain": [
       "   payment_id Payment_method\n",
       "0           1        Ewallet\n",
       "1           2           Cash\n",
       "2           3    Credit card"
      ]
     },
     "execution_count": 58,
     "metadata": {},
     "output_type": "execute_result"
    }
   ],
   "source": [
    "payment_df = df[['Payment']].drop_duplicates().reset_index(drop=True)\n",
    "payment_df['payment_id'] = payment_df.index + 1  \n",
    "payment_df = payment_df[['payment_id', 'Payment']]\n",
    "payment_df.rename(columns={'Payment': 'Payment_method'}, inplace=True)\n",
    "df.rename(columns={'Payment': 'Payment_method'}, inplace=True)\n",
    "payment_df"
   ]
  },
  {
   "cell_type": "code",
   "execution_count": 46,
   "metadata": {},
   "outputs": [
    {
     "name": "stderr",
     "output_type": "stream",
     "text": [
      "C:\\Users\\Lenovo\\AppData\\Local\\Temp\\ipykernel_1440\\3717998022.py:1: UserWarning: The provided table name 'Payment_Dimension' is not found exactly as such in the database after writing the table, possibly due to case sensitivity issues. Consider using lower case table names.\n",
      "  payment_df.to_sql('Payment_Dimension', con=engine, if_exists='append', index=False)\n"
     ]
    },
    {
     "data": {
      "text/plain": [
       "3"
      ]
     },
     "execution_count": 46,
     "metadata": {},
     "output_type": "execute_result"
    }
   ],
   "source": [
    "payment_df.to_sql('Payment_Dimension', con=engine, if_exists='append', index=False)\n"
   ]
  },
  {
   "cell_type": "code",
   "execution_count": 47,
   "metadata": {},
   "outputs": [],
   "source": [
    "df['Date'] = pd.to_datetime(df['Date'])\n",
    "date_df = df[['Date']].drop_duplicates().reset_index(drop=True)\n",
    "date_df['date_id'] = date_df.index + 1 \n",
    "date_df['month'] = date_df['Date'].dt.month\n",
    "date_df['year'] = date_df['Date'].dt.year\n",
    "date_df['quarter'] = date_df['Date'].dt.quarter\n",
    "date_df['day_of_week'] = date_df['Date'].dt.dayofweek\n",
    "date_df = date_df[['date_id', 'Date', 'month', 'year', 'quarter', 'day_of_week']]\n"
   ]
  },
  {
   "cell_type": "code",
   "execution_count": 48,
   "metadata": {},
   "outputs": [
    {
     "name": "stderr",
     "output_type": "stream",
     "text": [
      "C:\\Users\\Lenovo\\AppData\\Local\\Temp\\ipykernel_1440\\3489084657.py:1: UserWarning: The provided table name 'Date_Dimension' is not found exactly as such in the database after writing the table, possibly due to case sensitivity issues. Consider using lower case table names.\n",
      "  date_df.to_sql('Date_Dimension', con=engine, if_exists='append', index=False)\n"
     ]
    },
    {
     "data": {
      "text/plain": [
       "89"
      ]
     },
     "execution_count": 48,
     "metadata": {},
     "output_type": "execute_result"
    }
   ],
   "source": [
    "date_df.to_sql('Date_Dimension', con=engine, if_exists='append', index=False)\n"
   ]
  },
  {
   "cell_type": "code",
   "execution_count": 51,
   "metadata": {},
   "outputs": [
    {
     "name": "stdout",
     "output_type": "stream",
     "text": [
      "Index(['Invoice ID', 'Branch', 'City_x', 'Customer type', 'Gender_x',\n",
      "       'Product line', 'Unit price', 'Quantity', 'Tax 5%', 'Total', 'Date',\n",
      "       'Time', 'Payment', 'cogs', 'gross margin percentage', 'gross income',\n",
      "       'Rating', 'branch_id_x', 'City_y', 'customer_id_x', 'Gender_y',\n",
      "       'product_line_id_x', 'payment_id_x', 'date_id_x', 'month_x', 'year_x',\n",
      "       'quarter_x', 'day_of_week_x', 'branch_id_y', 'City', 'customer_id_y',\n",
      "       'Gender', 'product_line_id_y', 'payment_id_y', 'date_id_y', 'month_y',\n",
      "       'year_y', 'quarter_y', 'day_of_week_y', 'branch_id', 'City_branch',\n",
      "       'customer_id', 'Gender_customer', 'product_line_id', 'payment_id',\n",
      "       'date_id', 'month', 'year', 'quarter', 'day_of_week'],\n",
      "      dtype='object')\n"
     ]
    }
   ],
   "source": [
    "print(df.columns)\n"
   ]
  },
  {
   "cell_type": "code",
   "execution_count": 59,
   "metadata": {},
   "outputs": [
    {
     "name": "stderr",
     "output_type": "stream",
     "text": [
      "C:\\Users\\Lenovo\\AppData\\Local\\Temp\\ipykernel_1440\\2626618897.py:9: SettingWithCopyWarning: \n",
      "A value is trying to be set on a copy of a slice from a DataFrame\n",
      "\n",
      "See the caveats in the documentation: https://pandas.pydata.org/pandas-docs/stable/user_guide/indexing.html#returning-a-view-versus-a-copy\n",
      "  sales_fact_df.rename(columns={'Invoice ID': 'Invoice_ID'}, inplace=True)\n",
      "C:\\Users\\Lenovo\\AppData\\Local\\Temp\\ipykernel_1440\\2626618897.py:10: SettingWithCopyWarning: \n",
      "A value is trying to be set on a copy of a slice from a DataFrame\n",
      "\n",
      "See the caveats in the documentation: https://pandas.pydata.org/pandas-docs/stable/user_guide/indexing.html#returning-a-view-versus-a-copy\n",
      "  sales_fact_df.rename(columns={'Unit price': 'Unit_price'}, inplace=True)\n",
      "C:\\Users\\Lenovo\\AppData\\Local\\Temp\\ipykernel_1440\\2626618897.py:11: SettingWithCopyWarning: \n",
      "A value is trying to be set on a copy of a slice from a DataFrame\n",
      "\n",
      "See the caveats in the documentation: https://pandas.pydata.org/pandas-docs/stable/user_guide/indexing.html#returning-a-view-versus-a-copy\n",
      "  sales_fact_df.rename(columns={'Tax 5%': 'tax_5_percent'}, inplace=True)\n",
      "C:\\Users\\Lenovo\\AppData\\Local\\Temp\\ipykernel_1440\\2626618897.py:12: SettingWithCopyWarning: \n",
      "A value is trying to be set on a copy of a slice from a DataFrame\n",
      "\n",
      "See the caveats in the documentation: https://pandas.pydata.org/pandas-docs/stable/user_guide/indexing.html#returning-a-view-versus-a-copy\n",
      "  sales_fact_df.rename(columns={'gross income': 'gross_income'}, inplace=True)\n",
      "C:\\Users\\Lenovo\\AppData\\Local\\Temp\\ipykernel_1440\\2626618897.py:13: SettingWithCopyWarning: \n",
      "A value is trying to be set on a copy of a slice from a DataFrame\n",
      "\n",
      "See the caveats in the documentation: https://pandas.pydata.org/pandas-docs/stable/user_guide/indexing.html#returning-a-view-versus-a-copy\n",
      "  sales_fact_df.rename(columns={'gross margin percentage': 'gross_margin_percentage'}, inplace=True)\n"
     ]
    }
   ],
   "source": [
    "df = df.merge(branch_df, left_on='branch_name', right_on='branch_name', how='left', suffixes=('', '_branch'))\n",
    "df = df.merge(customer_df, left_on='Customer_type', right_on='Customer_type', how='left', suffixes=('', '_customer'))\n",
    "df = df.merge(product_line_df, left_on='Product_line_name', right_on='Product_line_name', how='left', suffixes=('', '_product_line'))\n",
    "df = df.merge(payment_df, left_on='Payment_method', right_on='Payment_method', how='left', suffixes=('', '_payment'))\n",
    "df = df.merge(date_df, left_on='Date', right_on='Date', how='left', suffixes=('', '_date'))\n",
    "\n",
    "sales_fact_df = df[['Invoice ID', 'branch_id', 'customer_id', 'product_line_id', 'payment_id', 'date_id', \n",
    "                    'Quantity', 'Unit price', 'Tax 5%', 'Total', 'cogs', 'gross income', 'gross margin percentage', 'Rating']]\n",
    "sales_fact_df.rename(columns={'Invoice ID': 'Invoice_ID'}, inplace=True)\n",
    "sales_fact_df.rename(columns={'Unit price': 'Unit_price'}, inplace=True)\n",
    "sales_fact_df.rename(columns={'Tax 5%': 'tax_5_percent'}, inplace=True)\n",
    "sales_fact_df.rename(columns={'gross income': 'gross_income'}, inplace=True)\n",
    "sales_fact_df.rename(columns={'gross margin percentage': 'gross_margin_percentage'}, inplace=True)\n",
    "df.rename(columns={'Customer type': 'Customer_type'}, inplace=True)\n"
   ]
  },
  {
   "cell_type": "code",
   "execution_count": 68,
   "metadata": {},
   "outputs": [
    {
     "name": "stdout",
     "output_type": "stream",
     "text": [
      "Index(['Invoice_ID', 'branch_id', 'customer_id', 'product_line_id',\n",
      "       'payment_id', 'date_id', 'Quantity', 'Unit_price', 'tax_5_percent',\n",
      "       'Total', 'cogs', 'gross_income', 'gross_margin_percentage', 'Rating'],\n",
      "      dtype='object')\n"
     ]
    }
   ],
   "source": [
    "print(sales_fact_df.columns)\n"
   ]
  },
  {
   "cell_type": "code",
   "execution_count": 69,
   "metadata": {},
   "outputs": [
    {
     "name": "stderr",
     "output_type": "stream",
     "text": [
      "C:\\Users\\Lenovo\\AppData\\Local\\Temp\\ipykernel_1440\\3620548426.py:1: SettingWithCopyWarning: \n",
      "A value is trying to be set on a copy of a slice from a DataFrame.\n",
      "Try using .loc[row_indexer,col_indexer] = value instead\n",
      "\n",
      "See the caveats in the documentation: https://pandas.pydata.org/pandas-docs/stable/user_guide/indexing.html#returning-a-view-versus-a-copy\n",
      "  sales_fact_df['Invoice_ID'] = sales_fact_df['Invoice_ID'].astype(str)\n"
     ]
    }
   ],
   "source": [
    "sales_fact_df['Invoice_ID'] = sales_fact_df['Invoice_ID'].astype(str) "
   ]
  },
  {
   "cell_type": "code",
   "execution_count": 73,
   "metadata": {},
   "outputs": [],
   "source": [
    "sales_fact_df = sales_fact_df.drop_duplicates(subset='Invoice_ID', keep='first') \n"
   ]
  },
  {
   "cell_type": "code",
   "execution_count": 77,
   "metadata": {},
   "outputs": [
    {
     "name": "stderr",
     "output_type": "stream",
     "text": [
      "C:\\Users\\Lenovo\\AppData\\Local\\Temp\\ipykernel_1440\\2406274448.py:1: UserWarning: The provided table name 'Sales_Fact' is not found exactly as such in the database after writing the table, possibly due to case sensitivity issues. Consider using lower case table names.\n",
      "  sales_fact_df.to_sql('Sales_Fact', con=engine, if_exists='append', index=False)\n"
     ]
    },
    {
     "data": {
      "text/plain": [
       "1000"
      ]
     },
     "execution_count": 77,
     "metadata": {},
     "output_type": "execute_result"
    }
   ],
   "source": [
    "sales_fact_df.to_sql('Sales_Fact', con=engine, if_exists='append', index=False)\n"
   ]
  },
  {
   "cell_type": "code",
   "execution_count": null,
   "metadata": {},
   "outputs": [],
   "source": []
  }
 ],
 "metadata": {
  "kernelspec": {
   "display_name": "Python (venv)",
   "language": "python",
   "name": "venv"
  },
  "language_info": {
   "codemirror_mode": {
    "name": "ipython",
    "version": 3
   },
   "file_extension": ".py",
   "mimetype": "text/x-python",
   "name": "python",
   "nbconvert_exporter": "python",
   "pygments_lexer": "ipython3",
   "version": "3.13.1"
  }
 },
 "nbformat": 4,
 "nbformat_minor": 2
}
